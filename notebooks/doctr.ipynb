{
 "cells": [
  {
   "cell_type": "code",
   "execution_count": 3,
   "metadata": {},
   "outputs": [],
   "source": [
    "%matplotlib inline\n",
    "import os\n",
    "\n",
    "# Let's pick the desired backend\n",
    "# os.environ['USE_TF'] = '1'\n",
    "os.environ['USE_TORCH'] = '1'\n",
    "\n",
    "import matplotlib.pyplot as plt\n",
    "\n",
    "from doctr.io import DocumentFile\n",
    "from doctr.models import ocr_predictor, kie_predictor"
   ]
  },
  {
   "cell_type": "code",
   "execution_count": 4,
   "metadata": {},
   "outputs": [],
   "source": [
    "\n",
    "# Instantiate a pretrained model\n",
    "predictor = ocr_predictor(det_arch=\"db_resnet50\",reco_arch='crnn_mobilenet_v3_large', pretrained=True, detect_language=True, detect_orientation=True)\n",
    "#predictor = kie_predictor(det_arch=\"db_resnet50\",reco_arch='crnn_mobilenet_v3_large', pretrained=True)\n"
   ]
  },
  {
   "cell_type": "code",
   "execution_count": 19,
   "metadata": {},
   "outputs": [
    {
     "data": {
      "text/plain": [
       "'de'"
      ]
     },
     "execution_count": 19,
     "metadata": {},
     "output_type": "execute_result"
    }
   ],
   "source": [
    "result.export()['pages'][0] ['language']['value']"
   ]
  },
  {
   "cell_type": "code",
   "execution_count": 14,
   "metadata": {},
   "outputs": [
    {
     "ename": "AttributeError",
     "evalue": "'Document' object has no attribute 'language'",
     "output_type": "error",
     "traceback": [
      "\u001b[1;31m---------------------------------------------------------------------------\u001b[0m",
      "\u001b[1;31mAttributeError\u001b[0m                            Traceback (most recent call last)",
      "\u001b[1;32ma:\\00_CODE\\ygo-vision\\doctr.ipynb Cell 4\u001b[0m line \u001b[0;36m1\n\u001b[1;32m----> <a href='vscode-notebook-cell:/a%3A/00_CODE/ygo-vision/doctr.ipynb#X20sZmlsZQ%3D%3D?line=0'>1</a>\u001b[0m result\u001b[39m.\u001b[39;49mlanguage\n",
      "\u001b[1;31mAttributeError\u001b[0m: 'Document' object has no attribute 'language'"
     ]
    }
   ],
   "source": [
    "result.language"
   ]
  },
  {
   "cell_type": "code",
   "execution_count": 10,
   "metadata": {},
   "outputs": [
    {
     "ename": "AttributeError",
     "evalue": "'Document' object has no attribute 'keys'",
     "output_type": "error",
     "traceback": [
      "\u001b[1;31m---------------------------------------------------------------------------\u001b[0m",
      "\u001b[1;31mAttributeError\u001b[0m                            Traceback (most recent call last)",
      "\u001b[1;32ma:\\00_CODE\\ygo-vision\\doctr.ipynb Cell 5\u001b[0m line \u001b[0;36m3\n\u001b[0;32m      <a href='vscode-notebook-cell:/a%3A/00_CODE/ygo-vision/doctr.ipynb#W2sZmlsZQ%3D%3D?line=0'>1</a>\u001b[0m doc \u001b[39m=\u001b[39m DocumentFile\u001b[39m.\u001b[39mfrom_images(\u001b[39m\"\u001b[39m\u001b[39mimg/20231112_185618.jpg\u001b[39m\u001b[39m\"\u001b[39m)\n\u001b[0;32m      <a href='vscode-notebook-cell:/a%3A/00_CODE/ygo-vision/doctr.ipynb#W2sZmlsZQ%3D%3D?line=1'>2</a>\u001b[0m result \u001b[39m=\u001b[39m predictor(doc)\n\u001b[1;32m----> <a href='vscode-notebook-cell:/a%3A/00_CODE/ygo-vision/doctr.ipynb#W2sZmlsZQ%3D%3D?line=2'>3</a>\u001b[0m result\u001b[39m.\u001b[39;49mkeys()\n",
      "\u001b[1;31mAttributeError\u001b[0m: 'Document' object has no attribute 'keys'"
     ]
    }
   ],
   "source": [
    "doc = DocumentFile.from_images(\"img/20231112_185618.jpg\")\n",
    "result = predictor(doc)\n",
    "result.keys()"
   ]
  },
  {
   "cell_type": "code",
   "execution_count": 19,
   "metadata": {},
   "outputs": [],
   "source": [
    "import pandas as pd"
   ]
  },
  {
   "cell_type": "code",
   "execution_count": 30,
   "metadata": {},
   "outputs": [
    {
     "data": {
      "text/plain": [
       "['SDFC-DE044', '65749035']"
      ]
     },
     "execution_count": 30,
     "metadata": {},
     "output_type": "execute_result"
    }
   ],
   "source": [
    "result"
   ]
  },
  {
   "cell_type": "code",
   "execution_count": 1,
   "metadata": {},
   "outputs": [
    {
     "name": "stdout",
     "output_type": "stream",
     "text": [
      "Defaulting to user installation because normal site-packages is not writeable\n",
      "Collecting python-multipart\n",
      "  Downloading python_multipart-0.0.6-py3-none-any.whl (45 kB)\n",
      "     ---------------------------------------- 0.0/45.7 kB ? eta -:--:--\n",
      "     -------- ------------------------------- 10.2/45.7 kB ? eta -:--:--\n",
      "     ------------------------- ------------ 30.7/45.7 kB 435.7 kB/s eta 0:00:01\n",
      "     -------------------------------------- 45.7/45.7 kB 449.0 kB/s eta 0:00:00\n",
      "Installing collected packages: python-multipart\n",
      "Successfully installed python-multipart-0.0.6\n"
     ]
    }
   ],
   "source": [
    "!pip install python-multipart"
   ]
  },
  {
   "cell_type": "code",
   "execution_count": 27,
   "metadata": {},
   "outputs": [
    {
     "data": {
      "text/plain": [
       "['GUNGNIR, DRACHE DER EISBARRIERE',\n",
       " '',\n",
       " '26',\n",
       " '',\n",
       " 'SDFC-DE044',\n",
       " '',\n",
       " 'Dexar/4psaep/Eomerl',\n",
       " 'Empfânger I+ WASSER Nch-Emnplange.-Monsiter',\n",
       " 'Einmal abwerfen pro und Spielzug: Du kannst bis zu 2 Karten auf den Friedhof',\n",
       " 'Gegner kontrolliert; dann dieselbe Anzahl Karten wâhlen, die dein',\n",
       " '',\n",
       " 'zerstore sie,',\n",
       " '',\n",
       " 'ATK/2500 DEF/1700',\n",
       " '02020 Studio Dice/SHUEISHA, IV1 TOKYO, KONAMI',\n",
       " '',\n",
       " '65749035 L.Auflage']"
      ]
     },
     "execution_count": 27,
     "metadata": {},
     "output_type": "execute_result"
    }
   ],
   "source": [
    "result.render().split('\\n')"
   ]
  },
  {
   "cell_type": "code",
   "execution_count": 36,
   "metadata": {},
   "outputs": [
    {
     "name": "stdout",
     "output_type": "stream",
     "text": [
      "Found IDs with letters/numbers: ['SDFC-DE044']\n",
      "Found IDs with pure numbers: ['65749035']\n"
     ]
    }
   ],
   "source": [
    "import re\n",
    "def search_ids(id_list, pattern1, pattern2):\n",
    "    found_ids_letters_numbers = []\n",
    "    found_ids_pure_numbers = []\n",
    "\n",
    "    for string in id_list:\n",
    "        # Search for the pattern with letters/numbers and \"-\"\n",
    "        match1 = re.search(pattern1, string)\n",
    "        if match1:\n",
    "            found_ids_letters_numbers.append(match1.group(0))\n",
    "\n",
    "        # Search for the pattern with pure numbers and more than 6 digits\n",
    "        match2 = re.search(pattern2, string)\n",
    "        if match2:\n",
    "            found_ids_pure_numbers.append(match2.group(0))\n",
    "\n",
    "    return found_ids_letters_numbers, found_ids_pure_numbers\n",
    "\n",
    "# Example usage:\n",
    "string_list = result.render().split('\\n')\n",
    "pattern_letters_numbers = r\"[A-Z0-9]+-[A-Z0-9]+\"\n",
    "pattern_pure_numbers = r\"\\d{7,}\"\n",
    "\n",
    "result_letters_numbers, result_pure_numbers = search_ids(string_list, pattern_letters_numbers, pattern_pure_numbers)\n",
    "\n",
    "print(\"Found IDs with letters/numbers:\", result_letters_numbers)\n",
    "print(\"Found IDs with pure numbers:\", result_pure_numbers)"
   ]
  },
  {
   "cell_type": "code",
   "execution_count": 8,
   "metadata": {},
   "outputs": [
    {
     "data": {
      "text/plain": [
       "Document(\n",
       "  (pages): [Page(\n",
       "    dimensions=(12000, 9000)\n",
       "    (blocks): [\n",
       "      Block(\n",
       "        (lines): [Line(\n",
       "          (words): [\n",
       "            Word(value='GUNGNIR,', confidence=0.91),\n",
       "            Word(value='DRACHE', confidence=1.0),\n",
       "            Word(value='DER', confidence=1.0),\n",
       "            Word(value='EISBARRIERE', confidence=0.97),\n",
       "          ]\n",
       "        )]\n",
       "        (artefacts): []\n",
       "      ),\n",
       "      Block(\n",
       "        (lines): [Line(\n",
       "          (words): [Word(value='26', confidence=0.46)]\n",
       "        )]\n",
       "        (artefacts): []\n",
       "      ),\n",
       "      Block(\n",
       "        (lines): [Line(\n",
       "          (words): [Word(value='SDFC-DE044', confidence=0.98)]\n",
       "        )]\n",
       "        (artefacts): []\n",
       "      ),\n",
       "      Block(\n",
       "        (lines): [\n",
       "          Line(\n",
       "            (words): [Word(value='Dexar/4psaep/Eomerl', confidence=0.16)]\n",
       "          ),\n",
       "          Line(\n",
       "            (words): [\n",
       "              Word(value='Empfânger', confidence=0.65),\n",
       "              Word(value='I+', confidence=0.94),\n",
       "              Word(value='WASSER', confidence=0.97),\n",
       "              Word(value='Nch-Emnplange.-Monsiter', confidence=0.35),\n",
       "            ]\n",
       "          ),\n",
       "          Line(\n",
       "            (words): [\n",
       "              Word(value='Einmal', confidence=1.0),\n",
       "              Word(value='abwerfen', confidence=0.99),\n",
       "              Word(value='pro', confidence=1.0),\n",
       "              Word(value='und', confidence=0.91),\n",
       "              Word(value='Spielzug:', confidence=0.98),\n",
       "              Word(value='Du', confidence=1.0),\n",
       "              Word(value='kannst', confidence=1.0),\n",
       "              Word(value='bis', confidence=0.9),\n",
       "              Word(value='zu', confidence=1.0),\n",
       "              Word(value='2', confidence=1.0),\n",
       "              Word(value='Karten', confidence=0.97),\n",
       "              Word(value='auf', confidence=0.97),\n",
       "              Word(value='den', confidence=1.0),\n",
       "              Word(value='Friedhof', confidence=0.98),\n",
       "            ]\n",
       "          ),\n",
       "          Line(\n",
       "            (words): [\n",
       "              Word(value='Gegner', confidence=0.99),\n",
       "              Word(value='kontrolliert;', confidence=0.99),\n",
       "              Word(value='dann', confidence=1.0),\n",
       "              Word(value='dieselbe', confidence=0.99),\n",
       "              Word(value='Anzahl', confidence=1.0),\n",
       "              Word(value='Karten', confidence=0.98),\n",
       "              Word(value='wâhlen,', confidence=0.52),\n",
       "              Word(value='die', confidence=1.0),\n",
       "              Word(value='dein', confidence=1.0),\n",
       "            ]\n",
       "          ),\n",
       "        ]\n",
       "        (artefacts): []\n",
       "      ),\n",
       "      Block(\n",
       "        (lines): [Line(\n",
       "          (words): [\n",
       "            Word(value='zerstore', confidence=0.53),\n",
       "            Word(value='sie,', confidence=0.82),\n",
       "          ]\n",
       "        )]\n",
       "        (artefacts): []\n",
       "      ),\n",
       "      Block(\n",
       "        (lines): [\n",
       "          Line(\n",
       "            (words): [\n",
       "              Word(value='ATK/2500', confidence=1.0),\n",
       "              Word(value='DEF/1700', confidence=0.92),\n",
       "            ]\n",
       "          ),\n",
       "          Line(\n",
       "            (words): [\n",
       "              Word(value='02020', confidence=0.48),\n",
       "              Word(value='Studio', confidence=0.66),\n",
       "              Word(value='Dice/SHUEISHA,', confidence=0.65),\n",
       "              Word(value='IV1', confidence=0.52),\n",
       "              Word(value='TOKYO,', confidence=0.86),\n",
       "              Word(value='KONAMI', confidence=1.0),\n",
       "            ]\n",
       "          ),\n",
       "        ]\n",
       "        (artefacts): []\n",
       "      ),\n",
       "      Block(\n",
       "        (lines): [Line(\n",
       "          (words): [\n",
       "            Word(value='65749035', confidence=0.92),\n",
       "            Word(value='L.Auflage', confidence=0.51),\n",
       "          ]\n",
       "        )]\n",
       "        (artefacts): []\n",
       "      ),\n",
       "    ]\n",
       "  )]\n",
       ")"
      ]
     },
     "execution_count": 8,
     "metadata": {},
     "output_type": "execute_result"
    }
   ],
   "source": [
    "result"
   ]
  },
  {
   "cell_type": "code",
   "execution_count": 25,
   "metadata": {},
   "outputs": [
    {
     "data": {
      "text/html": [
       "<div>\n",
       "<style scoped>\n",
       "    .dataframe tbody tr th:only-of-type {\n",
       "        vertical-align: middle;\n",
       "    }\n",
       "\n",
       "    .dataframe tbody tr th {\n",
       "        vertical-align: top;\n",
       "    }\n",
       "\n",
       "    .dataframe thead th {\n",
       "        text-align: right;\n",
       "    }\n",
       "</style>\n",
       "<table border=\"1\" class=\"dataframe\">\n",
       "  <thead>\n",
       "    <tr style=\"text-align: right;\">\n",
       "      <th></th>\n",
       "      <th>geometry</th>\n",
       "      <th>words</th>\n",
       "    </tr>\n",
       "  </thead>\n",
       "  <tbody>\n",
       "    <tr>\n",
       "      <th>0</th>\n",
       "      <td>((0.16536458333333331, 0.130859375), (0.645833...</td>\n",
       "      <td>[{'value': 'GUNGNIR,', 'confidence': 0.9092652...</td>\n",
       "    </tr>\n",
       "  </tbody>\n",
       "</table>\n",
       "</div>"
      ],
      "text/plain": [
       "                                            geometry  \\\n",
       "0  ((0.16536458333333331, 0.130859375), (0.645833...   \n",
       "\n",
       "                                               words  \n",
       "0  [{'value': 'GUNGNIR,', 'confidence': 0.9092652...  "
      ]
     },
     "execution_count": 25,
     "metadata": {},
     "output_type": "execute_result"
    }
   ],
   "source": [
    "pd.DataFrame(pd.DataFrame(result.pages[0].export()['blocks'])['lines'].iloc[0])"
   ]
  },
  {
   "cell_type": "code",
   "execution_count": 17,
   "metadata": {},
   "outputs": [
    {
     "data": {
      "text/plain": [
       "dict_keys(['page_idx', 'dimensions', 'orientation', 'language', 'blocks'])"
      ]
     },
     "execution_count": 17,
     "metadata": {},
     "output_type": "execute_result"
    }
   ],
   "source": [
    "result.pages[0].export().keys()"
   ]
  },
  {
   "cell_type": "code",
   "execution_count": 9,
   "metadata": {},
   "outputs": [
    {
     "ename": "TypeError",
     "evalue": "'int' object is not iterable",
     "output_type": "error",
     "traceback": [
      "\u001b[1;31m---------------------------------------------------------------------------\u001b[0m",
      "\u001b[1;31mTypeError\u001b[0m                                 Traceback (most recent call last)",
      "\u001b[1;32ma:\\00_CODE\\ygo-vision\\doctr.ipynb Cell 5\u001b[0m line \u001b[0;36m4\n\u001b[0;32m      <a href='vscode-notebook-cell:/a%3A/00_CODE/ygo-vision/doctr.ipynb#W4sZmlsZQ%3D%3D?line=1'>2</a>\u001b[0m \u001b[39mfor\u001b[39;00m class_name \u001b[39min\u001b[39;00m predictions\u001b[39m.\u001b[39mkeys():\n\u001b[0;32m      <a href='vscode-notebook-cell:/a%3A/00_CODE/ygo-vision/doctr.ipynb#W4sZmlsZQ%3D%3D?line=2'>3</a>\u001b[0m     list_predictions \u001b[39m=\u001b[39m predictions[class_name]\n\u001b[1;32m----> <a href='vscode-notebook-cell:/a%3A/00_CODE/ygo-vision/doctr.ipynb#W4sZmlsZQ%3D%3D?line=3'>4</a>\u001b[0m     \u001b[39mfor\u001b[39;00m prediction \u001b[39min\u001b[39;00m list_predictions:\n\u001b[0;32m      <a href='vscode-notebook-cell:/a%3A/00_CODE/ygo-vision/doctr.ipynb#W4sZmlsZQ%3D%3D?line=4'>5</a>\u001b[0m         \u001b[39mprint\u001b[39m(\u001b[39mf\u001b[39m\u001b[39m\"\u001b[39m\u001b[39mPrediction for \u001b[39m\u001b[39m{\u001b[39;00mclass_name\u001b[39m}\u001b[39;00m\u001b[39m: \u001b[39m\u001b[39m{\u001b[39;00mprediction\u001b[39m}\u001b[39;00m\u001b[39m\"\u001b[39m)\n",
      "\u001b[1;31mTypeError\u001b[0m: 'int' object is not iterable"
     ]
    }
   ],
   "source": [
    "predictions = result.pages[0].export()\n",
    "for class_name in predictions.keys():\n",
    "    list_predictions = predictions[class_name]\n",
    "    for prediction in list_predictions:\n",
    "        print(f\"Prediction for {class_name}: {prediction}\")"
   ]
  },
  {
   "cell_type": "code",
   "execution_count": null,
   "metadata": {},
   "outputs": [],
   "source": []
  }
 ],
 "metadata": {
  "kernelspec": {
   "display_name": "torch-ygo",
   "language": "python",
   "name": "python3"
  },
  "language_info": {
   "codemirror_mode": {
    "name": "ipython",
    "version": 3
   },
   "file_extension": ".py",
   "mimetype": "text/x-python",
   "name": "python",
   "nbconvert_exporter": "python",
   "pygments_lexer": "ipython3",
   "version": "3.9.18"
  }
 },
 "nbformat": 4,
 "nbformat_minor": 2
}
